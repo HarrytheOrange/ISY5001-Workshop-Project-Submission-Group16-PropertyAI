{
 "cells": [
  {
   "cell_type": "code",
   "execution_count": 1,
   "id": "2e1b0221",
   "metadata": {},
   "outputs": [],
   "source": [
    "from langchain.schema import AIMessage\n",
    "from langgraph.checkpoint.memory import InMemorySaver\n",
    "from config import UserNeeds\n",
    "from graph import UserNeedGraph\n"
   ]
  },
  {
   "cell_type": "code",
   "execution_count": 2,
   "id": "e74751b5",
   "metadata": {},
   "outputs": [
    {
     "name": "stdout",
     "output_type": "stream",
     "text": [
      "AI: OK. I will need to know your desired price range and how many bedrooms you need.\n",
      "-----\n",
      "    当前用户需求：\n",
      "      - Price_Range_Min: None\n",
      "      - Price_Range_Max: None\n",
      "      - Location_MRT: None\n",
      "      - Bedroom_Count: None\n",
      "-----\n"
     ]
    }
   ],
   "source": [
    "# 初始化 user_needs 实例\n",
    "user_needs: UserNeeds = {\n",
    "    \"Price_Range_Min\": {\"value\": None, \"constraint_type\": None, \"description\": \"A integer representing the minimum price.\"},\n",
    "    \"Price_Range_Max\": {\"value\": None, \"constraint_type\": None, \"description\": \"A integer representing the maximum price.\"},\n",
    "    \"Location_MRT\": {\"value\": None, \"constraint_type\": None, \"description\": \"A string representing the nearest MRT station.\"},\n",
    "    \"Bedroom_Count\": {\"value\": None, \"constraint_type\": None, \"description\": \"A integer representing the number of bedrooms.\"},\n",
    "}\n",
    "\n",
    "\n",
    "\n",
    "\n",
    "memory = InMemorySaver()\n",
    "graph_system = UserNeedGraph()\n",
    "\n",
    "graph = graph_system.graph_builder.compile(checkpointer=memory)\n",
    "config = {\"configurable\": {\"thread_id\": \"1\"}}\n",
    "\n",
    "\n",
    "\n",
    "# 第一次初始化 state\n",
    "state = {\"messages\": [], \"user_needs\": user_needs}\n",
    "graph.update_state(config, state)\n",
    "\n",
    "\n",
    "while True:\n",
    "    user_input = input(\"You: \")\n",
    "    if user_input.lower() in [\"quit\", \"exit\", \"q\"]:\n",
    "        break\n",
    "    \n",
    "    state[\"messages\"].append({\"role\": \"user\", \"content\": user_input})\n",
    "\n",
    "    # 运行图\n",
    "    result = graph.invoke(state, config)\n",
    "\n",
    "    # 保存 state\n",
    "    graph.update_state(config, result)\n",
    "\n",
    "    # 打印 AI 回复\n",
    "    ai_message = result[\"messages\"][-1]\n",
    "    if isinstance(ai_message, AIMessage):\n",
    "        print(f\"AI: {ai_message.content}\")\n",
    "\n",
    "    # 打印当前 user_needs\n",
    "    print(\"-----\")\n",
    "    print(\"    当前用户需求：\")\n",
    "    for k, v in result[\"user_needs\"].items():\n",
    "        print(f\"      - {k}: {v['value']}\")\n",
    "    print(\"-----\")\n",
    "\n",
    "    if all(v[\"value\"] is not None for v in result[\"user_needs\"].values()):\n",
    "        print(\"✅ 所有需求已收集完成！\")\n",
    "        break"
   ]
  },
  {
   "cell_type": "code",
   "execution_count": null,
   "id": "c4dc9adb",
   "metadata": {},
   "outputs": [],
   "source": []
  }
 ],
 "metadata": {
  "kernelspec": {
   "display_name": "pytorch",
   "language": "python",
   "name": "python3"
  },
  "language_info": {
   "codemirror_mode": {
    "name": "ipython",
    "version": 3
   },
   "file_extension": ".py",
   "mimetype": "text/x-python",
   "name": "python",
   "nbconvert_exporter": "python",
   "pygments_lexer": "ipython3",
   "version": "3.10.18"
  }
 },
 "nbformat": 4,
 "nbformat_minor": 5
}
